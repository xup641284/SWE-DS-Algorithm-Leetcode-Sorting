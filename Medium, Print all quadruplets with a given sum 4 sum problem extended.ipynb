{
 "cells": [
  {
   "cell_type": "markdown",
   "metadata": {},
   "source": [
    "# Sorting, O(n3)"
   ]
  },
  {
   "cell_type": "code",
   "execution_count": 1,
   "metadata": {},
   "outputs": [
    {
     "name": "stdout",
     "output_type": "stream",
     "text": [
      "(0, 4, 7, 9)\n",
      "(1, 3, 7, 9)\n",
      "(2, 4, 5, 9)\n"
     ]
    }
   ],
   "source": [
    "# Function to print all quadruplet present in a list with a given sum\n",
    "def quadTuple(A, target):\n",
    " \n",
    "    # sort the list in ascending order\n",
    "    A.sort()\n",
    " \n",
    "    # check if quadruplet is formed by `A[i]`, `A[j]`, and a pair from\n",
    "    # sublist `A[j+1…n)`\n",
    "    for i in range(len(A) - 3):\n",
    "        for j in range(i + 1, len(A) - 2):\n",
    " \n",
    "            # `k` stores remaining sum\n",
    "            k = target - (A[i] + A[j])\n",
    " \n",
    "            # check for sum `k` in sublist `A[j+1…n)`\n",
    "            low = j + 1\n",
    "            high = len(A) - 1\n",
    " \n",
    "            while low < high:\n",
    "                if A[low] + A[high] < k:\n",
    "                    low = low + 1\n",
    "                elif A[low] + A[high] > k:\n",
    "                    high = high - 1\n",
    "                # quadruplet with a given sum found\n",
    "                else:\n",
    "                    print((A[i], A[j], A[low], A[high]))\n",
    "                    (low, high) = (low + 1, high - 1)\n",
    " \n",
    " \n",
    "if __name__ == '__main__':\n",
    " \n",
    "    A = [2, 7, 4, 0, 9, 5, 1, 3]\n",
    "    target = 20\n",
    " \n",
    "    quadTuple(A, target)"
   ]
  },
  {
   "cell_type": "code",
   "execution_count": null,
   "metadata": {},
   "outputs": [],
   "source": []
  }
 ],
 "metadata": {
  "kernelspec": {
   "display_name": "Python 3",
   "language": "python",
   "name": "python3"
  },
  "language_info": {
   "codemirror_mode": {
    "name": "ipython",
    "version": 3
   },
   "file_extension": ".py",
   "mimetype": "text/x-python",
   "name": "python",
   "nbconvert_exporter": "python",
   "pygments_lexer": "ipython3",
   "version": "3.7.1"
  }
 },
 "nbformat": 4,
 "nbformat_minor": 2
}
