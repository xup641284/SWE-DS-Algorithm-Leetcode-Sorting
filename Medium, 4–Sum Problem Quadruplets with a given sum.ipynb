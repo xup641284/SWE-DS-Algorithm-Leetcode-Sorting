{
 "cells": [
  {
   "cell_type": "markdown",
   "metadata": {},
   "source": [
    "# Sorting, O(n3)"
   ]
  },
  {
   "cell_type": "code",
   "execution_count": 2,
   "metadata": {},
   "outputs": [
    {
     "name": "stdout",
     "output_type": "stream",
     "text": [
      "Quadruplet Found (4, 0, 7, 9)\n"
     ]
    }
   ],
   "source": [
    "# Function to check if quadruplet exists in a list with the given sum\n",
    "def hasQuadruplet(nums, target):\n",
    " \n",
    "    # create an empty dictionary\n",
    "    # key —> target of a pair in the list\n",
    "    # value —> list storing an index of every pair having that sum\n",
    "    d = {}\n",
    " \n",
    "    # consider each element except the last element\n",
    "    for i in range(len(nums) - 1):\n",
    " \n",
    "        # start from the i'th element until the last element\n",
    "        for j in range(i + 1, len(nums)):\n",
    " \n",
    "            # calculate the remaining sum\n",
    "            val = target - (nums[i] + nums[j])\n",
    " \n",
    "            # if the remaining sum is found on the dictionary,\n",
    "            # we have found a quadruplet\n",
    "            if val in d:\n",
    " \n",
    "                # check every pair having a sum equal to the remaining sum\n",
    "                for pair in d[val]:\n",
    "                    x, y = pair\n",
    " \n",
    "                    # if quadruplet doesn't overlap, print it and return true\n",
    "                    if (x != i and x != j) and (y != i and y != j):\n",
    "                        print('Quadruplet Found', (nums[i], nums[j], nums[x], nums[y]))\n",
    "                        return True\n",
    " \n",
    "            # insert the current pair into the dictionary\n",
    "            d.setdefault(nums[i] + nums[j], []).append((i, j))\n",
    " \n",
    "    # return false if quadruplet doesn't exist\n",
    "    return False\n",
    " \n",
    "if __name__ == '__main__':\n",
    " \n",
    "    nums = [2, 7, 4, 0, 9, 5, 1, 3]\n",
    "    target = 20\n",
    " \n",
    "    if not hasQuadruplet(nums, target):\n",
    "        print('Quadruplet doesn\\'t exist')"
   ]
  },
  {
   "cell_type": "code",
   "execution_count": null,
   "metadata": {},
   "outputs": [],
   "source": []
  }
 ],
 "metadata": {
  "kernelspec": {
   "display_name": "Python 3",
   "language": "python",
   "name": "python3"
  },
  "language_info": {
   "codemirror_mode": {
    "name": "ipython",
    "version": 3
   },
   "file_extension": ".py",
   "mimetype": "text/x-python",
   "name": "python",
   "nbconvert_exporter": "python",
   "pygments_lexer": "ipython3",
   "version": "3.7.1"
  }
 },
 "nbformat": 4,
 "nbformat_minor": 2
}
