{
 "cells": [
  {
   "cell_type": "markdown",
   "metadata": {},
   "source": [
    "# Selection sort, O(n2)"
   ]
  },
  {
   "cell_type": "code",
   "execution_count": 1,
   "metadata": {},
   "outputs": [
    {
     "name": "stdout",
     "output_type": "stream",
     "text": [
      "[-2, 1, 3, 4, 5, 8, 9]\n"
     ]
    }
   ],
   "source": [
    "# Utility function to swap values at two indices in the list\n",
    "def swap(A, i, j):\n",
    " \n",
    "    temp = A[i]\n",
    "    A[i] = A[j]\n",
    "    A[j] = temp\n",
    " \n",
    " \n",
    "# Function to perform selection sort on a list\n",
    "def selectionSort(A):\n",
    " \n",
    "    for i in range(len(A) - 1):\n",
    " \n",
    "        # find the minimum element in the unsorted sublist `A[i…n-1]`\n",
    "        # and swap it with `A[i]`\n",
    "        min = i\n",
    " \n",
    "        for j in range(i + 1, len(A)):\n",
    "            # if the `A[j]` element is less, then it is the new minimum\n",
    "            if A[j] < A[min]:\n",
    "                min = j        # update the index of minimum element\n",
    " \n",
    "        # swap the minimum element in sublist `A[i…n-1]` with `A[i]`\n",
    "        swap(A, min, i)\n",
    " \n",
    " \n",
    "if __name__ == '__main__':\n",
    " \n",
    "    A = [3, 5, 8, 4, 1, 9, -2]\n",
    " \n",
    "    selectionSort(A)\n",
    " \n",
    "    # print the sorted list\n",
    "    print(A)\n",
    " "
   ]
  },
  {
   "cell_type": "markdown",
   "metadata": {},
   "source": [
    "# Recursive, O(n2)"
   ]
  },
  {
   "cell_type": "code",
   "execution_count": 2,
   "metadata": {},
   "outputs": [
    {
     "name": "stdout",
     "output_type": "stream",
     "text": [
      "[-2, 1, 3, 4, 5, 8, 9]\n"
     ]
    }
   ],
   "source": [
    "# Utility function to swap values at two indices in the list\n",
    "def swap(A, i, j):\n",
    " \n",
    "    temp = A[i]\n",
    "    A[i] = A[j]\n",
    "    A[j] = temp\n",
    " \n",
    " \n",
    "# Recursive function to perform selection sort on sublist `A[i…n-1]`\n",
    "def selectionSort(A, i, n):\n",
    " \n",
    "    # find the minimum element in the unsorted sublist `A[i…n-1]`\n",
    "    # and swap it with `A[i]`\n",
    "    min = i\n",
    "    for j in range(i + 1, n):\n",
    " \n",
    "        # if the `A[j]` element is less, then it is the new minimum\n",
    "        if A[j] < A[min]:\n",
    "            min = j            # update the index of minimum element\n",
    " \n",
    "    # swap the minimum element in sublist `A[i…n-1]` with `A[i]`\n",
    "    swap(A, min, i)\n",
    " \n",
    "    if i + 1 < n:\n",
    "        selectionSort(A, i + 1, n)\n",
    " \n",
    " \n",
    "if __name__ == '__main__':\n",
    " \n",
    "    A = [3, 5, 8, 4, 1, 9, -2]\n",
    " \n",
    "    selectionSort(A, 0, len(A))\n",
    " \n",
    "    # print the sorted list\n",
    "    print(A)\n",
    " "
   ]
  },
  {
   "cell_type": "code",
   "execution_count": null,
   "metadata": {},
   "outputs": [],
   "source": []
  }
 ],
 "metadata": {
  "kernelspec": {
   "display_name": "Python 3",
   "language": "python",
   "name": "python3"
  },
  "language_info": {
   "codemirror_mode": {
    "name": "ipython",
    "version": 3
   },
   "file_extension": ".py",
   "mimetype": "text/x-python",
   "name": "python",
   "nbconvert_exporter": "python",
   "pygments_lexer": "ipython3",
   "version": "3.7.1"
  }
 },
 "nbformat": 4,
 "nbformat_minor": 2
}
