{
 "cells": [
  {
   "cell_type": "markdown",
   "metadata": {},
   "source": [
    "# Quicksort, O(n2)"
   ]
  },
  {
   "cell_type": "code",
   "execution_count": 1,
   "metadata": {},
   "outputs": [
    {
     "name": "stdout",
     "output_type": "stream",
     "text": [
      "[-6, -3, 1, 2, 3, 5, 6, 8, 9]\n"
     ]
    }
   ],
   "source": [
    "def swap(A, i, j):\n",
    " \n",
    "    temp = A[i]\n",
    "    A[i] = A[j]\n",
    "    A[j] = temp\n",
    " \n",
    " \n",
    "# Partition using the Lomuto partition scheme\n",
    "def partition(a, start, end):\n",
    " \n",
    "    # Pick the rightmost element as a pivot from the list\n",
    "    pivot = a[end]\n",
    " \n",
    "    # elements less than the pivot will be pushed to the left of `pIndex`\n",
    "    # elements more than the pivot will be pushed to the right of `pIndex`\n",
    "    # equal elements can go either way\n",
    "    pIndex = start\n",
    " \n",
    "    # each time we find an element less than or equal to the pivot,\n",
    "    # `pIndex` is incremented, and that element would be placed\n",
    "    # before the pivot.\n",
    "    for i in range(start, end):\n",
    "        if a[i] <= pivot:\n",
    "            swap(a, i, pIndex)\n",
    "            pIndex = pIndex + 1\n",
    " \n",
    "    # swap `pIndex` with pivot\n",
    "    swap(a, end, pIndex)\n",
    " \n",
    "    # return `pIndex` (index of the pivot element)\n",
    "    return pIndex\n",
    " \n",
    "# Quicksort routine\n",
    "def quicksort(a, start, end):\n",
    " \n",
    "    # base condition\n",
    "    if start >= end:\n",
    "        return\n",
    " \n",
    "    # rearrange elements across pivot\n",
    "    pivot = partition(a, start, end)\n",
    " \n",
    "    # recur on sublist containing elements less than the pivot\n",
    "    quicksort(a, start, pivot - 1)\n",
    " \n",
    "    # recur on sublist containing elements more than the pivot\n",
    "    quicksort(a, pivot + 1, end)\n",
    " \n",
    " \n",
    "# Python implementation of the Quicksort algorithm\n",
    "if __name__ == '__main__':\n",
    " \n",
    "    a = [9, -3, 5, 2, 6, 8, -6, 1, 3]\n",
    " \n",
    "    quicksort(a, 0, len(a) - 1)\n",
    " \n",
    "    # print the sorted list\n",
    "    print(a)\n",
    " \n"
   ]
  },
  {
   "cell_type": "code",
   "execution_count": null,
   "metadata": {},
   "outputs": [],
   "source": []
  }
 ],
 "metadata": {
  "kernelspec": {
   "display_name": "Python 3",
   "language": "python",
   "name": "python3"
  },
  "language_info": {
   "codemirror_mode": {
    "name": "ipython",
    "version": 3
   },
   "file_extension": ".py",
   "mimetype": "text/x-python",
   "name": "python",
   "nbconvert_exporter": "python",
   "pygments_lexer": "ipython3",
   "version": "3.7.1"
  }
 },
 "nbformat": 4,
 "nbformat_minor": 2
}
