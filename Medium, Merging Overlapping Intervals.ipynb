{
 "cells": [
  {
   "cell_type": "markdown",
   "metadata": {},
   "source": [
    "# Sorting, O(n.log(n))"
   ]
  },
  {
   "cell_type": "code",
   "execution_count": 1,
   "metadata": {},
   "outputs": [
    {
     "name": "stdout",
     "output_type": "stream",
     "text": [
      "[[1, 6], [8, 10], [15, 18]]\n"
     ]
    }
   ],
   "source": [
    "def mergeIntervals(intervals):\n",
    "    if not intervals:\n",
    "        return []\n",
    "    \n",
    "    intervals.sort(key=lambda x: x[0])  # Sort intervals based on start times\n",
    "    merged = [intervals[0]]  # Initialize merged intervals with the first interval\n",
    "    \n",
    "    for interval in intervals[1:]:\n",
    "        if interval[0] <= merged[-1][1]:  # Overlapping intervals found\n",
    "            merged[-1][1] = max(merged[-1][1], interval[1])\n",
    "        else:  # Non-overlapping interval\n",
    "            merged.append(interval)\n",
    "    \n",
    "    return merged\n",
    "\n",
    "\n",
    "if __name__ == '__main__':\n",
    " \n",
    "    intervals = [[1,3],[2,6],[8,10],[15,18]]\n",
    " \n",
    "    print(mergeIntervals(intervals))"
   ]
  },
  {
   "cell_type": "code",
   "execution_count": null,
   "metadata": {},
   "outputs": [],
   "source": []
  }
 ],
 "metadata": {
  "kernelspec": {
   "display_name": "Python 3",
   "language": "python",
   "name": "python3"
  },
  "language_info": {
   "codemirror_mode": {
    "name": "ipython",
    "version": 3
   },
   "file_extension": ".py",
   "mimetype": "text/x-python",
   "name": "python",
   "nbconvert_exporter": "python",
   "pygments_lexer": "ipython3",
   "version": "3.7.1"
  }
 },
 "nbformat": 4,
 "nbformat_minor": 2
}
