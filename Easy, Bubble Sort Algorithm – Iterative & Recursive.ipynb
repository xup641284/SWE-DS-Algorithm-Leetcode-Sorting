{
 "cells": [
  {
   "cell_type": "markdown",
   "metadata": {},
   "source": [
    "# Bubble sort"
   ]
  },
  {
   "cell_type": "code",
   "execution_count": 1,
   "metadata": {},
   "outputs": [
    {
     "name": "stdout",
     "output_type": "stream",
     "text": [
      "[-2, 1, 3, 4, 5, 8, 9]\n"
     ]
    }
   ],
   "source": [
    "# Utility function to swap values at two indices in the list\n",
    "def swap(A, i, j):\n",
    " \n",
    "    temp = A[i]\n",
    "    A[i] = A[j]\n",
    "    A[j] = temp\n",
    " \n",
    " \n",
    "# Function to perform bubble sort on a list\n",
    "def bubbleSort(A):\n",
    " \n",
    "    # `len(A)-1` passes\n",
    "    for k in range(len(A) - 1):\n",
    " \n",
    "        # last `k` items are already sorted, so the inner loop can\n",
    "        # avoid looking at the last `k` items\n",
    "        for i in range(len(A) - 1 - k):\n",
    "            if A[i] > A[i + 1]:\n",
    "                swap(A, i, i + 1)\n",
    " \n",
    "    # the algorithm can be terminated if the inner loop didn't do any swap\n",
    " \n",
    " \n",
    "if __name__ == '__main__':\n",
    " \n",
    "    A = [3, 5, 8, 4, 1, 9, -2]\n",
    " \n",
    "    bubbleSort(A)\n",
    " \n",
    "    # print the sorted list\n",
    "    print(A)\n",
    " \n"
   ]
  },
  {
   "cell_type": "markdown",
   "metadata": {},
   "source": [
    "# Recursive "
   ]
  },
  {
   "cell_type": "code",
   "execution_count": 2,
   "metadata": {},
   "outputs": [
    {
     "name": "stdout",
     "output_type": "stream",
     "text": [
      "[-2, 1, 3, 4, 5, 8, 9]\n"
     ]
    }
   ],
   "source": [
    "# Utility function to swap values at two indices in the list\n",
    "def swap(A, i, j):\n",
    " \n",
    "    temp = A[i]\n",
    "    A[i] = A[j]\n",
    "    A[j] = temp\n",
    " \n",
    " \n",
    "# Recursive function to perform bubble sort on sublist `A[i…n]`\n",
    "def bubbleSort(A, n):\n",
    " \n",
    "    for i in range(n - 1):\n",
    "        if A[i] > A[i + 1]:\n",
    "            swap(A, i, i + 1)\n",
    " \n",
    "    if n - 1 > 1:\n",
    "        bubbleSort(A, n - 1)\n",
    " \n",
    " \n",
    "if __name__ == '__main__':\n",
    " \n",
    "    A = [ 3, 5, 8, 4, 1, 9, -2 ]\n",
    " \n",
    "    bubbleSort(A, len(A))\n",
    " \n",
    "    # print the sorted list\n",
    "    print(A)\n",
    " \n"
   ]
  },
  {
   "cell_type": "code",
   "execution_count": null,
   "metadata": {},
   "outputs": [],
   "source": []
  }
 ],
 "metadata": {
  "kernelspec": {
   "display_name": "Python 3",
   "language": "python",
   "name": "python3"
  },
  "language_info": {
   "codemirror_mode": {
    "name": "ipython",
    "version": 3
   },
   "file_extension": ".py",
   "mimetype": "text/x-python",
   "name": "python",
   "nbconvert_exporter": "python",
   "pygments_lexer": "ipython3",
   "version": "3.7.1"
  }
 },
 "nbformat": 4,
 "nbformat_minor": 2
}
