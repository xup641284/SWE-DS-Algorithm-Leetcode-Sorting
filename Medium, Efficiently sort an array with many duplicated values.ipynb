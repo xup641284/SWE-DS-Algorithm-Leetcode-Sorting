{
 "cells": [
  {
   "cell_type": "markdown",
   "metadata": {},
   "source": [
    "# Counting sort, O(n + k)"
   ]
  },
  {
   "cell_type": "code",
   "execution_count": 1,
   "metadata": {},
   "outputs": [
    {
     "name": "stdout",
     "output_type": "stream",
     "text": [
      "[1, 1, 2, 2, 4, 4, 10, 10, 10, 40, 40]\n"
     ]
    }
   ],
   "source": [
    "RANGE = 100\n",
    " \n",
    "# Function to efficiently sort a list with many duplicated values\n",
    "# using the counting sort algorithm\n",
    "def customSort(A):\n",
    " \n",
    "    # create a new list to store counts of elements in the input list\n",
    "    freq = [0] * RANGE\n",
    " \n",
    "    # using the value of elements in the input list as an index,\n",
    "    # update their frequencies in the new list\n",
    "    for i in A:\n",
    "        freq[i] = freq[i] + 1\n",
    " \n",
    "    # overwrite the input list with sorted order\n",
    "    k = 0\n",
    "    for i in range(RANGE):\n",
    "        while freq[i] > 0:\n",
    "            A[k] = i\n",
    "            freq[i] = freq[i] - 1\n",
    "            k = k + 1\n",
    " \n",
    " \n",
    "if __name__ == '__main__':\n",
    " \n",
    "    A = [4, 2, 40, 10, 10, 1, 4, 2, 1, 10, 40]\n",
    " \n",
    "    customSort(A)\n",
    "    print(A)\n",
    " "
   ]
  },
  {
   "cell_type": "markdown",
   "metadata": {},
   "source": [
    "# Hash table, O(n.log(k))"
   ]
  },
  {
   "cell_type": "code",
   "execution_count": 6,
   "metadata": {},
   "outputs": [
    {
     "name": "stdout",
     "output_type": "stream",
     "text": [
      "[1, 1, 2, 2, 4, 4, 10, 10, 10, 40, 40]\n"
     ]
    }
   ],
   "source": [
    "# Function to efficiently sort a list with many duplicated values\n",
    "def customSort(A):\n",
    " \n",
    "    # create an empty dictionary to store the frequency of list elements\n",
    "    freq = {}\n",
    " \n",
    "    # store distinct values in the input list as keys and\n",
    "    # their respective counts as values\n",
    "    for i in A:\n",
    "        freq[i] = freq.get(i, 0) + 1\n",
    " \n",
    "    # sort the dictionary according to its keys' natural ordering and\n",
    "    # traverse the sorted dictionary and overwrite the input list with\n",
    "    # sorted elements\n",
    "    i = 0\n",
    "    for key in sorted(freq.keys()):\n",
    "        val = freq.get(key)\n",
    "        while val > 0:\n",
    "            A[i] = key\n",
    "            i = i + 1\n",
    "            val = val - 1\n",
    " \n",
    " \n",
    "if __name__ == '__main__':\n",
    " \n",
    "    A = [4, 2, 40, 10, 10, 1, 4, 2, 1, 10, 40]\n",
    " \n",
    "    customSort(A)\n",
    "    print(A)\n",
    " \n"
   ]
  },
  {
   "cell_type": "code",
   "execution_count": null,
   "metadata": {},
   "outputs": [],
   "source": []
  }
 ],
 "metadata": {
  "kernelspec": {
   "display_name": "Python 3",
   "language": "python",
   "name": "python3"
  },
  "language_info": {
   "codemirror_mode": {
    "name": "ipython",
    "version": 3
   },
   "file_extension": ".py",
   "mimetype": "text/x-python",
   "name": "python",
   "nbconvert_exporter": "python",
   "pygments_lexer": "ipython3",
   "version": "3.7.1"
  }
 },
 "nbformat": 4,
 "nbformat_minor": 2
}
