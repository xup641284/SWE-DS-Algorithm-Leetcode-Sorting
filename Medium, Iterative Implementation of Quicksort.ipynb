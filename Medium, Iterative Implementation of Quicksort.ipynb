{
 "cells": [
  {
   "cell_type": "code",
   "execution_count": 1,
   "metadata": {},
   "outputs": [
    {
     "name": "stdout",
     "output_type": "stream",
     "text": [
      "[-6, -3, 1, 2, 3, 5, 6, 8, 9]\n"
     ]
    }
   ],
   "source": [
    "from collections import deque\n",
    " \n",
    " \n",
    "def swap (A, i, j):\n",
    "    temp = A[i]\n",
    "    A[i] = A[j]\n",
    "    A[j] = temp\n",
    " \n",
    " \n",
    "def partition(a, start, end):\n",
    " \n",
    "    # Pick the rightmost element as a pivot from the list\n",
    "    pivot = a[end]\n",
    " \n",
    "    # elements less than the pivot will go to the left of `pIndex`\n",
    "    # elements more than the pivot will go to the right of `pIndex`\n",
    "    # equal elements can go either way\n",
    "    pIndex = start\n",
    " \n",
    "    # each time we find an element less than or equal to the pivot,\n",
    "    # `pIndex` is incremented, and that element would be placed\n",
    "    # before the pivot.\n",
    "    for i in range(start, end):\n",
    "        if a[i] <= pivot:\n",
    "            swap(a, i, pIndex)\n",
    "            pIndex = pIndex + 1\n",
    " \n",
    "    # swap `pIndex` with pivot\n",
    "    swap(a, pIndex, end)\n",
    " \n",
    "    # return `pIndex` (index of the pivot element)\n",
    "    return pIndex\n",
    " \n",
    " \n",
    "# Iterative Quicksort routine\n",
    "def iterativeQuicksort(a):\n",
    " \n",
    "    # create a stack for storing sublist start and end index\n",
    "    stack = deque()\n",
    " \n",
    "    # get the starting and ending index of a given list\n",
    "    start = 0\n",
    "    end = len(a) - 1\n",
    " \n",
    "    # push the start and end index of the array into the stack\n",
    "    stack.append((start, end))\n",
    " \n",
    "    # loop till stack is empty\n",
    "    while stack:\n",
    " \n",
    "        # remove top pair from the list and get sublist starting\n",
    "        # and ending indices\n",
    "        start, end = stack.pop()\n",
    " \n",
    "        # rearrange elements across pivot\n",
    "        pivot = partition(a, start, end)\n",
    " \n",
    "        # push sublist indices containing elements that are\n",
    "        # less than the current pivot to stack\n",
    "        if pivot - 1 > start:\n",
    "            stack.append((start, pivot - 1))\n",
    " \n",
    "        # push sublist indices containing elements that are\n",
    "        # more than the current pivot to stack\n",
    "        if pivot + 1 < end:\n",
    "            stack.append((pivot + 1, end))\n",
    " \n",
    " \n",
    "# Iterative Implementation of Quicksort\n",
    "if __name__ == '__main__':\n",
    " \n",
    "    a = [9, -3, 5, 2, 6, 8, -6, 1, 3]\n",
    " \n",
    "    iterativeQuicksort(a)\n",
    " \n",
    "    # print the sorted list\n",
    "    print(a)\n",
    " "
   ]
  },
  {
   "cell_type": "code",
   "execution_count": null,
   "metadata": {},
   "outputs": [],
   "source": [
    "# Iterative, "
   ]
  }
 ],
 "metadata": {
  "kernelspec": {
   "display_name": "Python 3",
   "language": "python",
   "name": "python3"
  },
  "language_info": {
   "codemirror_mode": {
    "name": "ipython",
    "version": 3
   },
   "file_extension": ".py",
   "mimetype": "text/x-python",
   "name": "python",
   "nbconvert_exporter": "python",
   "pygments_lexer": "ipython3",
   "version": "3.7.1"
  }
 },
 "nbformat": 4,
 "nbformat_minor": 2
}
