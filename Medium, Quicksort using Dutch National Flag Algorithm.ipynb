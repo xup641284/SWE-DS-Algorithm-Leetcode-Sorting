{
 "cells": [
  {
   "cell_type": "markdown",
   "metadata": {},
   "source": [
    "#  linear-time partition"
   ]
  },
  {
   "cell_type": "code",
   "execution_count": 6,
   "metadata": {},
   "outputs": [
    {
     "name": "stdout",
     "output_type": "stream",
     "text": [
      "[1, 2, 2, 2, 5, 6, 6, 6, 6, 8]\n"
     ]
    }
   ],
   "source": [
    "def swap (nums, i, j):\n",
    "    temp = nums[i]\n",
    "    nums[i] = nums[j]\n",
    "    nums[j] = temp\n",
    " \n",
    " \n",
    "# Partition routine using the Dutch national flag algorithm\n",
    "def partition(nums, start, end):\n",
    "    mid = start\n",
    "    pivot = nums[end]\n",
    " \n",
    "    while mid <= end:\n",
    "        if nums[mid] < pivot:\n",
    "            swap(nums, start, mid)\n",
    "            start += 1\n",
    "            mid += 1\n",
    "        elif nums[mid] > pivot:\n",
    "            swap(nums, mid, end)\n",
    "            end -= 1\n",
    "        else:\n",
    "            mid += 1\n",
    " \n",
    "    # nums[start … mid-1] contains all occurrences of a pivot\n",
    "    return start - 1, mid\n",
    " \n",
    "# 3–way Quicksort routine\n",
    "def quicksort(nums, start, end):\n",
    "    # base condition for 0 or 1 elements\n",
    "    if start >= end:\n",
    "        return\n",
    " \n",
    "    # rearrange elements across pivot using the Dutch national flag algorithm\n",
    "    x, y = partition(nums, start, end)\n",
    " \n",
    "    # recur on sublist containing elements that are less than the pivot\n",
    "    quicksort(nums, start, x)\n",
    " \n",
    "    # recur on sublist containing elements that are more than the pivot\n",
    "    quicksort(nums, y, end)\n",
    " \n",
    " \n",
    "if __name__ == '__main__':\n",
    " \n",
    "    nums = [2, 6, 5, 2, 6, 8, 6, 1, 2, 6]\n",
    " \n",
    "    # sort list\n",
    "    quicksort(nums, 0, len(nums) - 1)\n",
    " \n",
    "    # print the sorted list\n",
    "    print(nums)"
   ]
  },
  {
   "cell_type": "code",
   "execution_count": null,
   "metadata": {},
   "outputs": [],
   "source": []
  }
 ],
 "metadata": {
  "kernelspec": {
   "display_name": "Python 3",
   "language": "python",
   "name": "python3"
  },
  "language_info": {
   "codemirror_mode": {
    "name": "ipython",
    "version": 3
   },
   "file_extension": ".py",
   "mimetype": "text/x-python",
   "name": "python",
   "nbconvert_exporter": "python",
   "pygments_lexer": "ipython3",
   "version": "3.7.1"
  }
 },
 "nbformat": 4,
 "nbformat_minor": 2
}
