{
 "cells": [
  {
   "cell_type": "markdown",
   "metadata": {},
   "source": [
    "# Counting sort,  O(n + k)"
   ]
  },
  {
   "cell_type": "code",
   "execution_count": 1,
   "metadata": {},
   "outputs": [
    {
     "name": "stdout",
     "output_type": "stream",
     "text": [
      "[1, 1, 2, 2, 4, 4, 10, 10, 10]\n"
     ]
    }
   ],
   "source": [
    "'''\n",
    " `A` ——> the input list of integers to be sorted\n",
    " `k` ——> a number such that all integers are in range `0…k-1`\n",
    "'''\n",
    "def countsort(A, k):\n",
    " \n",
    "    # create an integer list of size `k + 1` to store each integer's count\n",
    "    # in the input list\n",
    "    freq = [0] * (k + 1)\n",
    " \n",
    "    # using the value of each item in the input list as an index,\n",
    "    # store each integer's count in `freq[]`\n",
    "    for i in A:\n",
    "        freq[i] += 1\n",
    " \n",
    "    # overwrite the input list with sorted order\n",
    "    index = 0\n",
    "    for i in range(k + 1):\n",
    "        while freq[i] > 0:\n",
    "            A[index] = i\n",
    "            index += 1\n",
    "            freq[i] -= 1\n",
    " \n",
    " \n",
    "if __name__ == '__main__':\n",
    " \n",
    "    A = [4, 2, 10, 10, 1, 4, 2, 1, 10]\n",
    " \n",
    "    # range of list elements\n",
    "    k = 10\n",
    " \n",
    "    countsort(A, k)\n",
    "    print(A)\n",
    " "
   ]
  },
  {
   "cell_type": "code",
   "execution_count": null,
   "metadata": {},
   "outputs": [],
   "source": []
  }
 ],
 "metadata": {
  "kernelspec": {
   "display_name": "Python 3",
   "language": "python",
   "name": "python3"
  },
  "language_info": {
   "codemirror_mode": {
    "name": "ipython",
    "version": 3
   },
   "file_extension": ".py",
   "mimetype": "text/x-python",
   "name": "python",
   "nbconvert_exporter": "python",
   "pygments_lexer": "ipython3",
   "version": "3.7.1"
  }
 },
 "nbformat": 4,
 "nbformat_minor": 2
}
