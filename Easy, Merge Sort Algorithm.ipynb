{
 "cells": [
  {
   "cell_type": "markdown",
   "metadata": {},
   "source": [
    "# Merge sort, O(n.log(n))"
   ]
  },
  {
   "cell_type": "code",
   "execution_count": 1,
   "metadata": {},
   "outputs": [
    {
     "name": "stdout",
     "output_type": "stream",
     "text": [
      "[-2, 0, 3, 5, 12, 18, 24]\n"
     ]
    }
   ],
   "source": [
    "# Merge two sorted sublists `A[low … mid]` and `A[mid+1 … high]`\n",
    "def merge(A, aux, low, mid, high):\n",
    " \n",
    "    k = low\n",
    "    i = low\n",
    "    j = mid + 1\n",
    " \n",
    "    # while there are elements in the left and right runs\n",
    "    while i <= mid and j <= high:\n",
    " \n",
    "        if A[i] <= A[j]:\n",
    "            aux[k] = A[i]\n",
    "            k = k + 1\n",
    "            i = i + 1\n",
    "        else:\n",
    "            aux[k] = A[j]\n",
    "            k = k + 1\n",
    "            j = j + 1\n",
    " \n",
    "    # copy remaining elements\n",
    "    while i <= mid:\n",
    "        aux[k] = A[i]\n",
    "        k = k + 1\n",
    "        i = i + 1\n",
    " \n",
    "    # No need to copy the second half (since the remaining items\n",
    "    # are already in their correct position in the auxiliary array)\n",
    " \n",
    "    # copy back to the original list to reflect sorted order\n",
    "    for i in range(low, high + 1):\n",
    "        A[i] = aux[i]\n",
    " \n",
    " \n",
    "# Sort list `A[low…high]` using auxiliary list aux\n",
    "def mergesort(A, aux, low, high):\n",
    " \n",
    "    # base case\n",
    "    if high <= low:                     # if run size <= 1\n",
    "        return\n",
    " \n",
    "    # find midpoint\n",
    "    mid = (low + ((high - low) >> 1))\n",
    " \n",
    "    # recursively split runs into two halves until run size <= 1,\n",
    "    # then merge them and return up the call chain\n",
    " \n",
    "    mergesort(A, aux, low, mid)         # split/merge left half\n",
    "    mergesort(A, aux, mid + 1, high)    # split/merge right half\n",
    " \n",
    "    merge(A, aux, low, mid, high)       # merge the two half runs\n",
    " \n",
    " \n",
    "# Function to check if `A` is sorted in ascending order or not\n",
    "def isSorted(A):\n",
    " \n",
    "    prev = A[0]\n",
    "    for i in range(1, len(A)):\n",
    "        if prev > A[i]:\n",
    "            print(\"MergeSort Fails!!\")\n",
    "            return False\n",
    " \n",
    "        prev = A[i]\n",
    " \n",
    "    return True\n",
    " \n",
    "# Implementation of merge sort algorithm in Python\n",
    "if __name__ == '__main__':\n",
    " \n",
    "    A = [12, 3, 18, 24, 0, 5, -2]\n",
    "    aux = A.copy()\n",
    " \n",
    "    # sort list `A` using auxiliary list `aux`\n",
    "    mergesort(A, aux, 0, len(A) - 1)\n",
    " \n",
    "    if isSorted(A):\n",
    "        print(A)\n",
    " "
   ]
  },
  {
   "cell_type": "code",
   "execution_count": null,
   "metadata": {},
   "outputs": [],
   "source": []
  }
 ],
 "metadata": {
  "kernelspec": {
   "display_name": "Python 3",
   "language": "python",
   "name": "python3"
  },
  "language_info": {
   "codemirror_mode": {
    "name": "ipython",
    "version": 3
   },
   "file_extension": ".py",
   "mimetype": "text/x-python",
   "name": "python",
   "nbconvert_exporter": "python",
   "pygments_lexer": "ipython3",
   "version": "3.7.1"
  }
 },
 "nbformat": 4,
 "nbformat_minor": 2
}
