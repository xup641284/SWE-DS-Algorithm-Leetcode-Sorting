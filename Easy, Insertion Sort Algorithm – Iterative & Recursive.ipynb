{
 "cells": [
  {
   "cell_type": "markdown",
   "metadata": {},
   "source": [
    "# Insertion sort, O(n2)"
   ]
  },
  {
   "cell_type": "code",
   "execution_count": 7,
   "metadata": {},
   "outputs": [
    {
     "name": "stdout",
     "output_type": "stream",
     "text": [
      "[3, 8, 5, 4, 1, 9, -2]\n",
      "[3, 5, 8, 4, 1, 9, -2]\n",
      "[3, 4, 5, 8, 1, 9, -2]\n",
      "[1, 3, 4, 5, 8, 9, -2]\n",
      "[1, 3, 4, 5, 8, 9, -2]\n",
      "[-2, 1, 3, 4, 5, 8, 9]\n",
      "[-2, 1, 3, 4, 5, 8, 9]\n"
     ]
    }
   ],
   "source": [
    "# Function to perform insertion sort on a list\n",
    "def insertionSort(A):\n",
    " \n",
    "    # Start from the second element\n",
    "    # (the element at index 0 is already sorted)\n",
    "    for i in range(1, len(A)):\n",
    " \n",
    "        value = A[i]\n",
    "        j = i\n",
    " \n",
    "        # find index `j` within the sorted subset `A[0…i-1]`\n",
    "        # where element `A[i]` belongs\n",
    "        while j > 0 and A[j - 1] > value:\n",
    "            A[j] = A[j - 1]\n",
    "            j = j - 1\n",
    " \n",
    "        # Note that sublist `A[j…i-1]`is shifted to\n",
    "        # the right by one position, i.e., `A[j+1…i]`\n",
    "        A[j] = value\n",
    " \n",
    " \n",
    "if __name__ == '__main__':\n",
    " \n",
    "    A = [3, 8, 5, 4, 1, 9, -2]\n",
    " \n",
    "    insertionSort(A)\n",
    " \n",
    "    # print the sorted list\n",
    "    print(A)"
   ]
  },
  {
   "cell_type": "code",
   "execution_count": null,
   "metadata": {},
   "outputs": [],
   "source": []
  }
 ],
 "metadata": {
  "kernelspec": {
   "display_name": "Python 3",
   "language": "python",
   "name": "python3"
  },
  "language_info": {
   "codemirror_mode": {
    "name": "ipython",
    "version": 3
   },
   "file_extension": ".py",
   "mimetype": "text/x-python",
   "name": "python",
   "nbconvert_exporter": "python",
   "pygments_lexer": "ipython3",
   "version": "3.7.1"
  }
 },
 "nbformat": 4,
 "nbformat_minor": 2
}
